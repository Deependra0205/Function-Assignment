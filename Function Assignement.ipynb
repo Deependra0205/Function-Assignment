{
 "cells": [
  {
   "cell_type": "code",
   "execution_count": 60,
   "id": "3576f3c0-cbd7-42fa-acbb-eae67bc3bcc3",
   "metadata": {},
   "outputs": [
    {
     "data": {
      "text/plain": [
       "30"
      ]
     },
     "execution_count": 60,
     "metadata": {},
     "output_type": "execute_result"
    }
   ],
   "source": [
    "#1.Write a Python function that takes a list of numbers as input and returns the sum of all even numbers in the list.\n",
    "numbers= [1,2,3,4,5,6,7,8,9,10]\n",
    "def sum_of_even_number(numbers):\n",
    "    result = sum(num for num in numbers if num % 2 == 0)\n",
    "    return result\n",
    "\n",
    "sum_of_even_number(numbers)"
   ]
  },
  {
   "cell_type": "code",
   "execution_count": 58,
   "id": "bcdcad33-14c2-4d75-8308-8802e3cdb39e",
   "metadata": {},
   "outputs": [
    {
     "data": {
      "text/plain": [
       "['noitacificepS']"
      ]
     },
     "execution_count": 58,
     "metadata": {},
     "output_type": "execute_result"
    }
   ],
   "source": [
    "#2. Create a Python function that accepts a string and returns the reverse of that string.\n",
    "Word = \"Specification\"\n",
    "def reverse_order(Word):\n",
    "    result = []\n",
    "    result.append(Word[::-1])\n",
    "    return result\n",
    "\n",
    "reverse_order(Word)"
   ]
  },
  {
   "cell_type": "code",
   "execution_count": 59,
   "id": "3e072451-d0ac-4703-a243-d9675ac25c00",
   "metadata": {},
   "outputs": [
    {
     "data": {
      "text/plain": [
       "[100, 225, 400, 625, 900, 1225, 1600, 2025, 2500]"
      ]
     },
     "execution_count": 59,
     "metadata": {},
     "output_type": "execute_result"
    }
   ],
   "source": [
    "#3. Implement a Python function that takes a list of integers and returns a new list containing the squares of each number.\n",
    "numbers = [10,15,20,25,30,35,40,45,50]\n",
    "\n",
    "def square_of_each_number(numbers):\n",
    "    result = []\n",
    "    for num in numbers:\n",
    "        result.append(num ** 2)\n",
    "    return result\n",
    "\n",
    "square_of_each_number(numbers)"
   ]
  },
  {
   "cell_type": "code",
   "execution_count": 4,
   "id": "18f3bb8b-6bb1-4b85-81f5-9ff32aabab7c",
   "metadata": {},
   "outputs": [
    {
     "name": "stdout",
     "output_type": "stream",
     "text": [
      "[2, 3, 5, 7, 11, 13, 17, 19, 23, 29, 31, 37, 41, 43, 47, 53, 59, 61, 67, 71, 73, 79, 83, 89, 97, 101, 103, 107, 109, 113, 127, 131, 137, 139, 149, 151, 157, 163, 167, 173, 179, 181, 191, 193, 197, 199]\n"
     ]
    }
   ],
   "source": [
    "# 4. Write a Python function that checks if a given number is prime or not from 1 to 200.\n",
    "def is_prime(num):\n",
    "    if num <= 1:\n",
    "        return False\n",
    "    for i in range(2, int(num**0.5) + 1):\n",
    "        if num % i == 0:\n",
    "            return False\n",
    "    return True\n",
    "\n",
    "# Check prime numbers from 1 to 200\n",
    "prime_numbers = [num for num in range(1, 201) if is_prime(num)]\n",
    "\n",
    "print(prime_numbers)\n"
   ]
  },
  {
   "cell_type": "code",
   "execution_count": 23,
   "id": "c1df29f3-094b-419b-969a-ac2a4d19c8fa",
   "metadata": {},
   "outputs": [],
   "source": [
    "#5. Create an iterator class in Python that generates the Fibonacci sequence up to a specified number of terms.\n",
    "\n",
    "def fib(num):\n",
    "    a = 0\n",
    "    b = 1\n",
    "    for i in range(num):\n",
    "        yield a\n",
    "        a ,b = b , a+b\n",
    "        "
   ]
  },
  {
   "cell_type": "code",
   "execution_count": 36,
   "id": "496be3c5-01f1-4d0c-bd31-dee5a01f2265",
   "metadata": {},
   "outputs": [
    {
     "data": {
      "text/plain": [
       "<generator object fib at 0x70699c2d2810>"
      ]
     },
     "execution_count": 36,
     "metadata": {},
     "output_type": "execute_result"
    }
   ],
   "source": [
    "gen = fib(5)\n",
    "gen"
   ]
  },
  {
   "cell_type": "code",
   "execution_count": 30,
   "id": "80578c62-054c-4e69-b720-409d0fdcd7f8",
   "metadata": {},
   "outputs": [
    {
     "data": {
      "text/plain": [
       "0"
      ]
     },
     "execution_count": 30,
     "metadata": {},
     "output_type": "execute_result"
    }
   ],
   "source": [
    "next(gen)"
   ]
  },
  {
   "cell_type": "code",
   "execution_count": 31,
   "id": "6e338431-5f90-47db-8bde-79e390fc51bc",
   "metadata": {},
   "outputs": [
    {
     "data": {
      "text/plain": [
       "1"
      ]
     },
     "execution_count": 31,
     "metadata": {},
     "output_type": "execute_result"
    }
   ],
   "source": [
    "next(gen)"
   ]
  },
  {
   "cell_type": "code",
   "execution_count": 32,
   "id": "bdee71bf-7684-439b-b377-64fbee1a65aa",
   "metadata": {},
   "outputs": [
    {
     "data": {
      "text/plain": [
       "1"
      ]
     },
     "execution_count": 32,
     "metadata": {},
     "output_type": "execute_result"
    }
   ],
   "source": [
    "next(gen)"
   ]
  },
  {
   "cell_type": "code",
   "execution_count": 33,
   "id": "adf52de9-e612-469f-a7de-337e74c12bcc",
   "metadata": {},
   "outputs": [
    {
     "data": {
      "text/plain": [
       "2"
      ]
     },
     "execution_count": 33,
     "metadata": {},
     "output_type": "execute_result"
    }
   ],
   "source": [
    "next(gen)"
   ]
  },
  {
   "cell_type": "code",
   "execution_count": 34,
   "id": "fc45d2bc-a48a-4a60-b37f-7299bc4a58e0",
   "metadata": {},
   "outputs": [
    {
     "data": {
      "text/plain": [
       "3"
      ]
     },
     "execution_count": 34,
     "metadata": {},
     "output_type": "execute_result"
    }
   ],
   "source": [
    "next(gen)"
   ]
  },
  {
   "cell_type": "code",
   "execution_count": 35,
   "id": "d7762e6c-4ed9-4610-a6fd-77fab79de5a2",
   "metadata": {},
   "outputs": [
    {
     "data": {
      "text/plain": [
       "5"
      ]
     },
     "execution_count": 35,
     "metadata": {},
     "output_type": "execute_result"
    }
   ],
   "source": [
    "next(gen)"
   ]
  },
  {
   "cell_type": "code",
   "execution_count": 51,
   "id": "ea53cc2f-145a-495d-8d5e-68199a9999d6",
   "metadata": {},
   "outputs": [
    {
     "name": "stdout",
     "output_type": "stream",
     "text": [
      "1\n",
      "2\n",
      "4\n",
      "8\n",
      "16\n",
      "32\n",
      "64\n"
     ]
    }
   ],
   "source": [
    "#6. Write a generator function in Python that yields the powers of 2 up to a given exponent.\n",
    "def powers_of_two(max_exponent):\n",
    "    \"\"\"Generator function to yield powers of 2 up to the given exponent.\"\"\"\n",
    "    for exponent in range(max_exponent + 1):\n",
    "        yield 2 ** exponent\n",
    "\n",
    "# Example usage\n",
    "max_exponent = 6\n",
    "for power in powers_of_two(max_exponent):\n",
    "    print(power)\n"
   ]
  },
  {
   "cell_type": "code",
   "execution_count": 38,
   "id": "2d81fec0-7ad2-427f-87c4-e4cd957ba4f4",
   "metadata": {},
   "outputs": [
    {
     "data": {
      "text/plain": [
       "['Apple', 'Mango', 'Banana', 1, 2, 3, 5]"
      ]
     },
     "execution_count": 38,
     "metadata": {},
     "output_type": "execute_result"
    }
   ],
   "source": [
    "#7. Implement a generator function that reads a file line by line and yields each line as a string.\n",
    "list = [\"Apple\",\"Mango\",\"Banana\",1,2,3,5]\n",
    "list"
   ]
  },
  {
   "cell_type": "code",
   "execution_count": 48,
   "id": "5eedbc72-cc07-4475-82f7-d655de958289",
   "metadata": {},
   "outputs": [
    {
     "data": {
      "text/plain": [
       "<list_iterator at 0x70699c62d2d0>"
      ]
     },
     "execution_count": 48,
     "metadata": {},
     "output_type": "execute_result"
    }
   ],
   "source": [
    "a = iter(list)\n",
    "a"
   ]
  },
  {
   "cell_type": "code",
   "execution_count": 49,
   "id": "fdfee9a4-5208-4e88-b02c-11551a8ec8e4",
   "metadata": {},
   "outputs": [
    {
     "data": {
      "text/plain": [
       "str"
      ]
     },
     "execution_count": 49,
     "metadata": {},
     "output_type": "execute_result"
    }
   ],
   "source": [
    "type(str(next(a)))"
   ]
  },
  {
   "cell_type": "code",
   "execution_count": 9,
   "id": "b48b5546-396a-458b-8641-3e01e5319bf9",
   "metadata": {},
   "outputs": [
    {
     "name": "stdout",
     "output_type": "stream",
     "text": [
      "[(5, 1), (4, 2), (2, 4), (1, 6)]\n"
     ]
    }
   ],
   "source": [
    "#8. Use a lambda function in Python to sort a list of tuples based on the second element of each tuple.\n",
    "\n",
    "tuples_list = [(1, 6), (4, 2), (5, 1), (2, 4)]\n",
    "\n",
    "sorted_list = sorted(tuples_list, key=lambda x: x[1])\n",
    "\n",
    "print(sorted_list)\n"
   ]
  },
  {
   "cell_type": "code",
   "execution_count": 150,
   "id": "16fcc9ca-0c9c-4536-ae6b-bdedf51eb9fe",
   "metadata": {},
   "outputs": [
    {
     "data": {
      "text/plain": [
       "[33.8, 35.6, 37.4, 39.2, 41.0, 42.8, 44.6, 46.4, 48.2, 212.0]"
      ]
     },
     "execution_count": 150,
     "metadata": {},
     "output_type": "execute_result"
    }
   ],
   "source": [
    "#9. Write a Python program that uses `map()` to convert a list of temperatures from Celsius to Fahrenheit.\n",
    "\n",
    "Temperature_in_Celcius = [1,2,3,4,5,6,7,8,9,100]\n",
    "\n",
    "list(map(lambda temp : (temp * 1.8) + 32 , Temperature_in_Celcius))\n"
   ]
  },
  {
   "cell_type": "code",
   "execution_count": 113,
   "id": "d6973c7b-66a2-4560-8f4f-dac1fb6d6348",
   "metadata": {},
   "outputs": [
    {
     "data": {
      "text/plain": [
       "['C', 'h', 'r', 'c', 't', 'r', 's', 't', 'c']"
      ]
     },
     "execution_count": 113,
     "metadata": {},
     "output_type": "execute_result"
    }
   ],
   "source": [
    "#10. Create a Python program that uses `filter()` to remove all the vowels from a given string.\n",
    "word = \"Characteristic\"\n",
    "def remove_vowels(word):\n",
    "    vowels = \"aeiou\"\n",
    "    result = list(filter(lambda x : x not in vowels , word))\n",
    "    return result\n",
    "\n",
    "remove_vowels(word)"
   ]
  },
  {
   "cell_type": "code",
   "execution_count": null,
   "id": "442bd8fe-0b1c-4098-b72c-8232595a1451",
   "metadata": {},
   "outputs": [],
   "source": []
  },
  {
   "cell_type": "code",
   "execution_count": null,
   "id": "00c1f9f0-10c6-4919-8038-f76f3ccd5de3",
   "metadata": {},
   "outputs": [],
   "source": []
  }
 ],
 "metadata": {
  "kernelspec": {
   "display_name": "Python 3 (ipykernel)",
   "language": "python",
   "name": "python3"
  },
  "language_info": {
   "codemirror_mode": {
    "name": "ipython",
    "version": 3
   },
   "file_extension": ".py",
   "mimetype": "text/x-python",
   "name": "python",
   "nbconvert_exporter": "python",
   "pygments_lexer": "ipython3",
   "version": "3.10.8"
  }
 },
 "nbformat": 4,
 "nbformat_minor": 5
}
